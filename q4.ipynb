{
  "nbformat": 4,
  "nbformat_minor": 0,
  "metadata": {
    "colab": {
      "name": "q4",
      "provenance": [],
      "authorship_tag": "ABX9TyOL8a07qHMYFtkHKN7Skd55",
      "include_colab_link": true
    },
    "kernelspec": {
      "name": "python3",
      "display_name": "Python 3"
    }
  },
  "cells": [
    {
      "cell_type": "markdown",
      "metadata": {
        "id": "view-in-github",
        "colab_type": "text"
      },
      "source": [
        "<a href=\"https://colab.research.google.com/github/rishika-p/assignment-1/blob/master/q4.ipynb\" target=\"_parent\"><img src=\"https://colab.research.google.com/assets/colab-badge.svg\" alt=\"Open In Colab\"/></a>"
      ]
    },
    {
      "cell_type": "code",
      "metadata": {
        "id": "IQmlle1XJxcM",
        "colab_type": "code",
        "colab": {
          "base_uri": "https://localhost:8080/",
          "height": 84
        },
        "outputId": "1f08479e-acd1-47b5-ba0a-58b04f100fa1"
      },
      "source": [
        "M=int(input(\"enter amount of water in kg:\"))\n",
        "x=int(input(\"enter initial temperature:\"))\n",
        "y=int(input(\"enter final temperature:\"))\n",
        "Q=M*(y-x)*4184\n",
        "print(\"amount of energy:\",Q)"
      ],
      "execution_count": 1,
      "outputs": [
        {
          "output_type": "stream",
          "text": [
            "enter amount of water in kg:1\n",
            "enter initial temperature:1\n",
            "enter final temperature:2\n",
            "amount of energy: 4184\n"
          ],
          "name": "stdout"
        }
      ]
    },
    {
      "cell_type": "markdown",
      "metadata": {
        "id": "Iy5T8qE-QBz2",
        "colab_type": "text"
      },
      "source": [
        "4)YOUR PROGRAM SHOULD PROMPT USER TO ENTER AMOUNT OF WATER IN KG AND INITIAL AND FINAL TEMPERATURES OF WATER .THE FORMULA TO COMPUTE THE ENERGY IS :\n",
        "Q=M*(FINAL TEMP-INITIAL TEMP)*4184"
      ]
    }
  ]
}