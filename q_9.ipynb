{
  "nbformat": 4,
  "nbformat_minor": 0,
  "metadata": {
    "colab": {
      "name": "q-9",
      "provenance": [],
      "authorship_tag": "ABX9TyPq8wgWRb5KM478a+fnVPx3",
      "include_colab_link": true
    },
    "kernelspec": {
      "name": "python3",
      "display_name": "Python 3"
    }
  },
  "cells": [
    {
      "cell_type": "markdown",
      "metadata": {
        "id": "view-in-github",
        "colab_type": "text"
      },
      "source": [
        "<a href=\"https://colab.research.google.com/github/rishika-p/assignment-1/blob/master/q_9.ipynb\" target=\"_parent\"><img src=\"https://colab.research.google.com/assets/colab-badge.svg\" alt=\"Open In Colab\"/></a>"
      ]
    },
    {
      "cell_type": "code",
      "metadata": {
        "id": "o5l3Xv7lPIhM",
        "colab_type": "code",
        "colab": {
          "base_uri": "https://localhost:8080/",
          "height": 168
        },
        "outputId": "ca9b2c75-5865-4034-b943-3e4985a7b10d"
      },
      "source": [
        "for n in range(1,1000):\n",
        "  temp=n\n",
        "  rem=0\n",
        "  sum=0\n",
        "  while temp>0:\n",
        "    rem=temp%10\n",
        "    sum=sum+rem**3\n",
        "    temp=temp//10\n",
        "    if sum==n:\n",
        "      print(n)"
      ],
      "execution_count": 1,
      "outputs": [
        {
          "output_type": "stream",
          "text": [
            "1\n",
            "64\n",
            "125\n",
            "153\n",
            "216\n",
            "370\n",
            "371\n",
            "407\n",
            "729\n"
          ],
          "name": "stdout"
        }
      ]
    },
    {
      "cell_type": "markdown",
      "metadata": {
        "id": "f01IEs2vXLns",
        "colab_type": "text"
      },
      "source": [
        "PRINT ALL ARMSTRONG NUMBERS BETWEEN 1 TO 1000"
      ]
    }
  ]
}