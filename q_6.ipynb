{
  "nbformat": 4,
  "nbformat_minor": 0,
  "metadata": {
    "colab": {
      "name": "q-6",
      "provenance": [],
      "authorship_tag": "ABX9TyO28lxTUmCMYb+AhOb9P/uI",
      "include_colab_link": true
    },
    "kernelspec": {
      "name": "python3",
      "display_name": "Python 3"
    }
  },
  "cells": [
    {
      "cell_type": "markdown",
      "metadata": {
        "id": "view-in-github",
        "colab_type": "text"
      },
      "source": [
        "<a href=\"https://colab.research.google.com/github/rishika-p/assignment-1/blob/master/q_6.ipynb\" target=\"_parent\"><img src=\"https://colab.research.google.com/assets/colab-badge.svg\" alt=\"Open In Colab\"/></a>"
      ]
    },
    {
      "cell_type": "code",
      "metadata": {
        "id": "h9ChaBsxcMIX",
        "colab_type": "code",
        "colab": {
          "base_uri": "https://localhost:8080/",
          "height": 67
        },
        "outputId": "b741886a-ae10-4cb9-8106-f658cc7690bd"
      },
      "source": [
        "ht=float(input(\"enter height in inches:\"))\n",
        "wt=float(input(\"enter weight in pounds:\"))\n",
        "w=(wt*0.45359237)\n",
        "h=(ht*0.0254)\n",
        "bmi=w/(h*h)\n",
        "if bmi<=18.5:\n",
        "  print(\"BMI is\",bmi,\"underweight\")\n",
        "elif bmi>18.5 and bmi<25:\n",
        "  print(\"BMI is\",bmi,\"normal\")\n",
        "elif bmi>25 and bmi<30:\n",
        "  print(\"BMI is\",bmi,\"overweight\")\n",
        "elif bmi>30:\n",
        "  print(\"BMI is\",bmi,\"obese\")\n",
        "else:\n",
        "  print(\"error\")"
      ],
      "execution_count": null,
      "outputs": [
        {
          "output_type": "stream",
          "text": [
            "enter height in meters(decimal):120\n",
            "enter weight in kgs:50\n",
            "BMI is 2.441213818191525 underweight\n"
          ],
          "name": "stdout"
        }
      ]
    },
    {
      "cell_type": "markdown",
      "metadata": {
        "id": "CEZE-jOxRVAl",
        "colab_type": "text"
      },
      "source": [
        "WRITE A PROGRAM THAT PROMPTS USER TO ENTER WEIGHT IN POUNDS AND HEIGHT IN INCHES AND DISPLAYS BMI\n",
        "1 pound is 0.45359237 kg\n",
        "1 inch is 0.0254 meters"
      ]
    },
    {
      "cell_type": "markdown",
      "metadata": {
        "id": "ZgyLvHtIPiUj",
        "colab_type": "text"
      },
      "source": [
        ""
      ]
    }
  ]
}