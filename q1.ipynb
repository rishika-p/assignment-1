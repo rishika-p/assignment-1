{
  "nbformat": 4,
  "nbformat_minor": 0,
  "metadata": {
    "colab": {
      "name": "q1",
      "provenance": [],
      "authorship_tag": "ABX9TyMavRs932Zn7Bz+N6TN0ejL",
      "include_colab_link": true
    },
    "kernelspec": {
      "name": "python3",
      "display_name": "Python 3"
    }
  },
  "cells": [
    {
      "cell_type": "markdown",
      "metadata": {
        "id": "view-in-github",
        "colab_type": "text"
      },
      "source": [
        "<a href=\"https://colab.research.google.com/github/rishika-p/assignment-1/blob/master/q1.ipynb\" target=\"_parent\"><img src=\"https://colab.research.google.com/assets/colab-badge.svg\" alt=\"Open In Colab\"/></a>"
      ]
    },
    {
      "cell_type": "code",
      "metadata": {
        "id": "mvkggZ1FpUbw",
        "colab_type": "code",
        "colab": {
          "base_uri": "https://localhost:8080/",
          "height": 50
        },
        "outputId": "9493138d-dc07-4461-ad58-461577b605d7"
      },
      "source": [
        "year=int(input(\"enter the year for zodaic sign:\"))\n",
        "if year%12==0:\n",
        "  print(\"monkey\")\n",
        "elif year%12==1:\n",
        "  print(\"rooster\")\n",
        "elif year%12==2:\n",
        "  print(\"dog\")\n",
        "elif year%12==3:\n",
        "  print(\"pig\")\n",
        "elif year%12==4:\n",
        "  print(\"rat\")\n",
        "elif year%12==5:\n",
        "  print(\"ox\")\n",
        "elif year%12==6:\n",
        "  print(\"tiger\")\n",
        "elif year%12==7:\n",
        "  print(\"rabbit\")\n",
        "elif year%12==8:\n",
        "  print(\"dragon\")\n",
        "elif year%12==9:\n",
        "  print(\"snake\")\n",
        "elif year%12==10:\n",
        "  print(\"horse\")\n",
        "else:\n",
        "  print(\"sheep\")\n"
      ],
      "execution_count": null,
      "outputs": [
        {
          "output_type": "stream",
          "text": [
            "enter the year for zodaic sign:6\n",
            "tiger\n"
          ],
          "name": "stdout"
        }
      ]
    },
    {
      "cell_type": "code",
      "metadata": {
        "id": "K7_pQTds24dR",
        "colab_type": "code",
        "colab": {}
      },
      "source": [
        ""
      ],
      "execution_count": null,
      "outputs": []
    }
  ]
}