{
  "nbformat": 4,
  "nbformat_minor": 0,
  "metadata": {
    "colab": {
      "name": "q7",
      "provenance": [],
      "authorship_tag": "ABX9TyPbQQDkVcGmdAWcPfDS6DzI",
      "include_colab_link": true
    },
    "kernelspec": {
      "name": "python3",
      "display_name": "Python 3"
    }
  },
  "cells": [
    {
      "cell_type": "markdown",
      "metadata": {
        "id": "view-in-github",
        "colab_type": "text"
      },
      "source": [
        "<a href=\"https://colab.research.google.com/github/rishika-p/assignment-1/blob/master/q7.ipynb\" target=\"_parent\"><img src=\"https://colab.research.google.com/assets/colab-badge.svg\" alt=\"Open In Colab\"/></a>"
      ]
    },
    {
      "cell_type": "code",
      "metadata": {
        "id": "wFSU7PrvGC9k",
        "colab_type": "code",
        "colab": {
          "base_uri": "https://localhost:8080/",
          "height": 50
        },
        "outputId": "f9a809d7-54e0-4926-cbcf-2197ceeb1967"
      },
      "source": [
        "n=int(input(\"enter number between 100 and 1000:\"))\n",
        "rem=0\n",
        "sum=0\n",
        "if n>=100 and n<=1000:\n",
        "  while n>0:\n",
        "    rem=n%10\n",
        "    sum=sum+rem\n",
        "    n=n//10\n",
        "  print(sum)\n",
        "else:\n",
        "  print(\"please enter number between given range\")  \n"
      ],
      "execution_count": 2,
      "outputs": [
        {
          "output_type": "stream",
          "text": [
            "enter number between 100 and 1000:745\n",
            "16\n"
          ],
          "name": "stdout"
        }
      ]
    },
    {
      "cell_type": "markdown",
      "metadata": {
        "id": "mpSCtqwUTzuo",
        "colab_type": "text"
      },
      "source": [
        "WRITE A PROGRAM THAT READS AN INTEGER BETWEEN 100 AND 1000 AND ADD ALL THE DIGITS IN THE INTEGER (ex.INPUT 745 #OUTPUT=16(7+4+5))"
      ]
    }
  ]
}