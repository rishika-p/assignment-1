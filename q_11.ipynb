{
  "nbformat": 4,
  "nbformat_minor": 0,
  "metadata": {
    "colab": {
      "name": "q-11",
      "provenance": [],
      "authorship_tag": "ABX9TyOYXpnW8ksMIPRoiw9amTA/",
      "include_colab_link": true
    },
    "kernelspec": {
      "name": "python3",
      "display_name": "Python 3"
    }
  },
  "cells": [
    {
      "cell_type": "markdown",
      "metadata": {
        "id": "view-in-github",
        "colab_type": "text"
      },
      "source": [
        "<a href=\"https://colab.research.google.com/github/rishika-p/assignment-1/blob/master/q_11.ipynb\" target=\"_parent\"><img src=\"https://colab.research.google.com/assets/colab-badge.svg\" alt=\"Open In Colab\"/></a>"
      ]
    },
    {
      "cell_type": "code",
      "metadata": {
        "id": "Jg_22qM0Xy_v",
        "colab_type": "code",
        "colab": {
          "base_uri": "https://localhost:8080/",
          "height": 84
        },
        "outputId": "5fb3ea07-79e4-48ab-8380-f4db15e09e84"
      },
      "source": [
        "ht=int(input(\"Enter height of wall:\"))\n",
        "u=int(input(\"Enter the meters spider climbs up:\"))\n",
        "d=int(input(\"Enter the meters spider slips down:\"))\n",
        "c=1\n",
        "t=u\n",
        "while t<ht:\n",
        "  t=t-d\n",
        "  c=c+1\n",
        "  t=t+u\n",
        "  if t==ht:\n",
        "    c=c+1\n",
        "print(c)"
      ],
      "execution_count": 6,
      "outputs": [
        {
          "output_type": "stream",
          "text": [
            "Enter height of wall:200\n",
            "Enter the meters spider climbs up:50\n",
            "Enter the meters spider slips down:1\n",
            "5\n"
          ],
          "name": "stdout"
        }
      ]
    },
    {
      "cell_type": "markdown",
      "metadata": {
        "id": "FwFpXa4G3kIw",
        "colab_type": "text"
      },
      "source": [
        "I/P:EACH TEST CASE WILL CONTAIN 3 INTEGERS 'H' HEIGHT OF WALL,'U'METERS IT CLIMBS UP IN EACH STEP AND 'D'METERS IT SLIPS DOWN IN EACH STEP.\n",
        "O/P:THE NUMBER OF STEPS 'N' REQUIRED TO GET OUT OF WALL.\n",
        "i/p:                             \n",
        "200 50 1                    \n",
        "o/p:\n",
        "5"
      ]
    }
  ]
}