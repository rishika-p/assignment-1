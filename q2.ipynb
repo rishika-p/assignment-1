{
  "nbformat": 4,
  "nbformat_minor": 0,
  "metadata": {
    "colab": {
      "name": "q2",
      "provenance": [],
      "authorship_tag": "ABX9TyOcHgGXfhJHhG9TrMJkKvJp",
      "include_colab_link": true
    },
    "kernelspec": {
      "name": "python3",
      "display_name": "Python 3"
    }
  },
  "cells": [
    {
      "cell_type": "markdown",
      "metadata": {
        "id": "view-in-github",
        "colab_type": "text"
      },
      "source": [
        "<a href=\"https://colab.research.google.com/github/rishika-p/assignment-1/blob/master/q2.ipynb\" target=\"_parent\"><img src=\"https://colab.research.google.com/assets/colab-badge.svg\" alt=\"Open In Colab\"/></a>"
      ]
    },
    {
      "cell_type": "code",
      "metadata": {
        "id": "E9AGIWIc28Cd",
        "colab_type": "code",
        "colab": {
          "base_uri": "https://localhost:8080/",
          "height": 67
        },
        "outputId": "a08ebbaa-0c60-453e-aa5d-493e4b42b218"
      },
      "source": [
        "dist=int(input(\"enter distance to be travel:\"))\n",
        "wt=int(input(\"enter weight of goods:\"))\n",
        "if dist>=500:\n",
        "  if wt>=100:\n",
        "    cost=5*dist\n",
        "  elif wt>=10 and wt<100:\n",
        "    cost=6*dist\n",
        "  else:\n",
        "    cost=7*dist\n",
        "else:\n",
        "  if wt>=100:\n",
        "    cost=8*dist\n",
        "  else:\n",
        "    cost=5*dist\n",
        "print(\"Amount to be charged:\",cost)\n"
      ],
      "execution_count": null,
      "outputs": [
        {
          "output_type": "stream",
          "text": [
            "enter distance to be travel:520\n",
            "enter weight of goods:50\n",
            "Amount to be charged: 3120\n"
          ],
          "name": "stdout"
        }
      ]
    },
    {
      "cell_type": "markdown",
      "metadata": {
        "id": "XSQDUX97r88m",
        "colab_type": "text"
      },
      "source": [
        "A quick fox transport co. wants to develop an application for calculating amount based on distance and weights of goods.The charges to be calculated as per rates.\n",
        "i/p:distance to travelled:520\n",
        "weight of goods:50\n",
        "o/p:amount to be charged :3120"
      ]
    }
  ]
}