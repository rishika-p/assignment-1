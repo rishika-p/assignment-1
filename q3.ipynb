{
  "nbformat": 4,
  "nbformat_minor": 0,
  "metadata": {
    "colab": {
      "name": "q3",
      "provenance": [],
      "authorship_tag": "ABX9TyMBf1rT7rsHejqeULqUnfP/",
      "include_colab_link": true
    },
    "kernelspec": {
      "name": "python3",
      "display_name": "Python 3"
    }
  },
  "cells": [
    {
      "cell_type": "markdown",
      "metadata": {
        "id": "view-in-github",
        "colab_type": "text"
      },
      "source": [
        "<a href=\"https://colab.research.google.com/github/rishika-p/assignment-1/blob/master/q3.ipynb\" target=\"_parent\"><img src=\"https://colab.research.google.com/assets/colab-badge.svg\" alt=\"Open In Colab\"/></a>"
      ]
    },
    {
      "cell_type": "code",
      "metadata": {
        "id": "vQnaBP885Usz",
        "colab_type": "code",
        "colab": {
          "base_uri": "https://localhost:8080/",
          "height": 67
        },
        "outputId": "0ff8767c-a59d-4fbc-cd9f-3bd1cc810bce"
      },
      "source": [
        "a=input(\"Enter type of seat: \")\n",
        "b=input(\"Enter payment mode:\")\n",
        "if a==\"stalls\":\n",
        "  if b==\"cash\":\n",
        "    print(625-(625*0.1))\n",
        "  elif b==\"credit\":\n",
        "    print(625-(625*0.05))\n",
        "elif a==\"circle\":\n",
        "  if b==\"cash\":\n",
        "    print(750-(750*0.1))\n",
        "  elif b==\"credit\":\n",
        "    print(750-(750*0.05))\n",
        "elif a==\"upperclass\":\n",
        "  if b==\"cash\":\n",
        "    print(850-(850*0.1))\n",
        "  elif b==\"credit\":\n",
        "    print(850-(850*0.05))\n",
        "elif a==\"box\":\n",
        "  if b==\"cash\":\n",
        "    print(1000-(1000*0.1))\n",
        "  elif b==\"credit\":\n",
        "    print(1000-(1000*0.05))\n"
      ],
      "execution_count": 5,
      "outputs": [
        {
          "output_type": "stream",
          "text": [
            "Enter type of seat: circle\n",
            "Enter payment mode:cash\n",
            "675.0\n"
          ],
          "name": "stdout"
        }
      ]
    },
    {
      "cell_type": "markdown",
      "metadata": {
        "id": "DNSwsKWYvRtS",
        "colab_type": "text"
      },
      "source": [
        "ENTERTAINMENT PARADISE::::\n",
        "TICKET RATES FOR STALLS:625\n",
        "FOR CIRCLE:750\n",
        "FOR UPPERCLASS:850\n",
        "FOR BOX:1000\n",
        "IF TICKETS ARE PURCHASED ON CASH DISCOUNT IS 10% IN CASE BY CREDIT CARD THEN DISCOUNT IS 5%\n",
        "I/P:TYPE OF SEAT:CIRCLE;\n",
        "PAYMENT MODE:CASH;\n",
        "0/P:675"
      ]
    },
    {
      "cell_type": "markdown",
      "metadata": {
        "id": "4waL7IYRsaxZ",
        "colab_type": "text"
      },
      "source": [
        ""
      ]
    }
  ]
}