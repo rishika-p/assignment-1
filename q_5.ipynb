{
  "nbformat": 4,
  "nbformat_minor": 0,
  "metadata": {
    "colab": {
      "name": "q-5",
      "provenance": [],
      "authorship_tag": "ABX9TyMpVCmoMEms7VdTaES45zaK",
      "include_colab_link": true
    },
    "kernelspec": {
      "name": "python3",
      "display_name": "Python 3"
    }
  },
  "cells": [
    {
      "cell_type": "markdown",
      "metadata": {
        "id": "view-in-github",
        "colab_type": "text"
      },
      "source": [
        "<a href=\"https://colab.research.google.com/github/rishika-p/assignment-1/blob/master/q_5.ipynb\" target=\"_parent\"><img src=\"https://colab.research.google.com/assets/colab-badge.svg\" alt=\"Open In Colab\"/></a>"
      ]
    },
    {
      "cell_type": "code",
      "metadata": {
        "id": "WWtJq6kUX-Hy",
        "colab_type": "code",
        "colab": {
          "base_uri": "https://localhost:8080/",
          "height": 50
        },
        "outputId": "b51f866c-b198-410c-ae34-4cee636019d0"
      },
      "source": [
        "month=input(\"enter month:\")\n",
        "if month=='march'or month=='april'or month=='may':\n",
        "  print(\"spring\")\n",
        "elif month=='june'or month=='july'or' month==august':\n",
        "  print(\"summer\")\n",
        "elif month=='sept'or month=='oct'or month=='nov':\n",
        "  print(\"autumn\")\n",
        "else:\n",
        "  print(\"winter\")"
      ],
      "execution_count": 2,
      "outputs": [
        {
          "output_type": "stream",
          "text": [
            "enter month:july\n",
            "summer\n"
          ],
          "name": "stdout"
        }
      ]
    },
    {
      "cell_type": "markdown",
      "metadata": {
        "id": "j_lyYgezNGWx",
        "colab_type": "text"
      },
      "source": [
        "5)develop a program that prompts user to enter month and print\n",
        "a-winter----december,january and february\n",
        "b-spring----march,april,may\n",
        "c-summer----june,julyand august\n",
        "d-autumn----september,october and november"
      ]
    }
  ]
}